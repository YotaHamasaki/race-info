{
 "cells": [
  {
   "cell_type": "code",
   "execution_count": 5,
   "id": "bd369ec8-6528-4603-a899-59d684f972ef",
   "metadata": {},
   "outputs": [],
   "source": [
    "from linebot import LineBotApi\n",
    "from linebot.models import TextSendMessage\n",
    "import requests\n",
    "from bs4 import BeautifulSoup\n",
    "\n",
    "def send_line(race, time):\n",
    "    CHANNEL_ACCESS_TOKEN = \"Rg/9H+WoAvhCKLnMP/yT1h4uFgWe1ZO1/2/x2kLtXpEAZAxN7ZSlQd/KQHOBBNzGHEtcflBmKiRuu3m+kTQx/eN6NxdPQLSl89DbVa/IM5upMk7/NtecZWeUn+gnu+b0E2CgqEcyH1HWmnDKj0WL+wdB04t89/1O/w1cDnyilFU=\"\n",
    "    USER_ID = \"Uaa5346493dbf7a5692cd56a446edc781\"\n",
    "    line_bot_api = LineBotApi(CHANNEL_ACCESS_TOKEN)\n",
    "    messages = TextSendMessage(text=\"今日の出場レース \\n\" + race + \"\\n\" + time)\n",
    "    line_bot_api.push_message(USER_ID, messages=messages)\n",
    "    \n",
    "def main():\n",
    "    url = \"https://www.boatrace.jp/owpc/pc/data/racersearch/profile?toban=5174\"\n",
    "    res = requests.get(url)\n",
    "    soup = BeautifulSoup(res.text, \"html.parser\")\n",
    "    race = soup.find_all(\"tr\", attrs={\"is-p10-0\"})[0]\n",
    "    today_race = race.find_all(\"a\")\n",
    "    \n",
    "    race_lists = []\n",
    "    for i in today_race:\n",
    "        text = i.text\n",
    "        if \"R\" in text:\n",
    "            race_lists.append(text)\n",
    "            \n",
    "    race_time = {\"1R\":\"10:53\",\n",
    "                 \"2R\":\"11:19\",\n",
    "                 \"3R\":\"11:46\",\n",
    "                 \"4R\":\"12:14\",\n",
    "                 \"5R\":\"12:44\",\n",
    "                 \"6R\":\"13:14\",\n",
    "                 \"7R\":\"13:45\",\n",
    "                 \"8R\":\"14:16\",\n",
    "                 \"9R\":\"14:48\",\n",
    "                 \"10R\":\"15:21\",\n",
    "                 \"11R\":\"15:55\",\n",
    "                 \"12R\":\"16:30\"}\n",
    "\n",
    "    #複数レース出場する場合\n",
    "    if len(race_lists) > 1:\n",
    "            \n",
    "        for race_list in race_lists:\n",
    "            for key, value in race_time.items():\n",
    "                if race_list == key:\n",
    "                    #ライン送信する\n",
    "                    send_line(race_list, value)\n",
    "    #1レースのみ出場する場合\n",
    "    elif len(race_lists) == 1:\n",
    "        for key, value in race_time.items():\n",
    "            if race_list == key:\n",
    "                send_line(race_lists[0], value)\n",
    "    #出場レースがない場合\n",
    "    else:\n",
    "        send_line(\"今日は出場レースがありません。\", \" \")\n",
    "        \n",
    "if __name__ == \"__main__\":\n",
    "    main()"
   ]
  },
  {
   "cell_type": "code",
   "execution_count": null,
   "id": "3c3ccc5d-45c4-43cf-bf99-7db6563cffad",
   "metadata": {},
   "outputs": [],
   "source": []
  }
 ],
 "metadata": {
  "kernelspec": {
   "display_name": "Python 3 (ipykernel)",
   "language": "python",
   "name": "python3"
  },
  "language_info": {
   "codemirror_mode": {
    "name": "ipython",
    "version": 3
   },
   "file_extension": ".py",
   "mimetype": "text/x-python",
   "name": "python",
   "nbconvert_exporter": "python",
   "pygments_lexer": "ipython3",
   "version": "3.9.7"
  }
 },
 "nbformat": 4,
 "nbformat_minor": 5
}
