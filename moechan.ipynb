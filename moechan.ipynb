{
 "cells": [
  {
   "cell_type": "code",
   "execution_count": 2,
   "id": "1dd07eec-83f2-4ce4-95b3-fba90fe665eb",
   "metadata": {},
   "outputs": [
    {
     "name": "stdout",
     "output_type": "stream",
     "text": [
      "Requirement already satisfied: requests in /opt/anaconda3/lib/python3.9/site-packages (2.26.0)\n",
      "Requirement already satisfied: idna<4,>=2.5 in /opt/anaconda3/lib/python3.9/site-packages (from requests) (3.2)\n",
      "Requirement already satisfied: charset-normalizer~=2.0.0 in /opt/anaconda3/lib/python3.9/site-packages (from requests) (2.0.4)\n",
      "Requirement already satisfied: certifi>=2017.4.17 in /opt/anaconda3/lib/python3.9/site-packages (from requests) (2021.10.8)\n",
      "Requirement already satisfied: urllib3<1.27,>=1.21.1 in /opt/anaconda3/lib/python3.9/site-packages (from requests) (1.26.7)\n"
     ]
    }
   ],
   "source": [
    "!pip install requests"
   ]
  },
  {
   "cell_type": "code",
   "execution_count": 78,
   "id": "c797dd0d-5065-45b4-af39-88c23c52bafd",
   "metadata": {},
   "outputs": [
    {
     "name": "stdout",
     "output_type": "stream",
     "text": [
      "Requirement already satisfied: BeautifulSoup4 in /opt/anaconda3/lib/python3.9/site-packages (4.10.0)\n",
      "Requirement already satisfied: soupsieve>1.2 in /opt/anaconda3/lib/python3.9/site-packages (from BeautifulSoup4) (2.2.1)\n"
     ]
    }
   ],
   "source": [
    "!pip install BeautifulSoup4"
   ]
  },
  {
   "cell_type": "code",
   "execution_count": 79,
   "id": "1796c30e-a894-4e9d-a760-3dc011866e86",
   "metadata": {},
   "outputs": [
    {
     "name": "stdout",
     "output_type": "stream",
     "text": [
      "Requirement already satisfied: line-bot-sdk in /opt/anaconda3/lib/python3.9/site-packages (2.1.0)\n",
      "Requirement already satisfied: aiohttp>=3.7.4 in /opt/anaconda3/lib/python3.9/site-packages (from line-bot-sdk) (3.8.1)\n",
      "Requirement already satisfied: future in /opt/anaconda3/lib/python3.9/site-packages (from line-bot-sdk) (0.18.2)\n",
      "Requirement already satisfied: requests>=2.0 in /opt/anaconda3/lib/python3.9/site-packages (from line-bot-sdk) (2.26.0)\n",
      "Requirement already satisfied: frozenlist>=1.1.1 in /opt/anaconda3/lib/python3.9/site-packages (from aiohttp>=3.7.4->line-bot-sdk) (1.3.0)\n",
      "Requirement already satisfied: multidict<7.0,>=4.5 in /opt/anaconda3/lib/python3.9/site-packages (from aiohttp>=3.7.4->line-bot-sdk) (6.0.2)\n",
      "Requirement already satisfied: async-timeout<5.0,>=4.0.0a3 in /opt/anaconda3/lib/python3.9/site-packages (from aiohttp>=3.7.4->line-bot-sdk) (4.0.2)\n",
      "Requirement already satisfied: charset-normalizer<3.0,>=2.0 in /opt/anaconda3/lib/python3.9/site-packages (from aiohttp>=3.7.4->line-bot-sdk) (2.0.4)\n",
      "Requirement already satisfied: attrs>=17.3.0 in /opt/anaconda3/lib/python3.9/site-packages (from aiohttp>=3.7.4->line-bot-sdk) (21.2.0)\n",
      "Requirement already satisfied: yarl<2.0,>=1.0 in /opt/anaconda3/lib/python3.9/site-packages (from aiohttp>=3.7.4->line-bot-sdk) (1.7.2)\n",
      "Requirement already satisfied: aiosignal>=1.1.2 in /opt/anaconda3/lib/python3.9/site-packages (from aiohttp>=3.7.4->line-bot-sdk) (1.2.0)\n",
      "Requirement already satisfied: idna<4,>=2.5 in /opt/anaconda3/lib/python3.9/site-packages (from requests>=2.0->line-bot-sdk) (3.2)\n",
      "Requirement already satisfied: urllib3<1.27,>=1.21.1 in /opt/anaconda3/lib/python3.9/site-packages (from requests>=2.0->line-bot-sdk) (1.26.7)\n",
      "Requirement already satisfied: certifi>=2017.4.17 in /opt/anaconda3/lib/python3.9/site-packages (from requests>=2.0->line-bot-sdk) (2021.10.8)\n"
     ]
    }
   ],
   "source": [
    "!pip install line-bot-sdk"
   ]
  },
  {
   "cell_type": "code",
   "execution_count": 110,
   "id": "226a1f09-2fb8-4d67-8bbb-e3f56a5355f0",
   "metadata": {},
   "outputs": [],
   "source": [
    "from linebot import LineBotApi\n",
    "from linebot.models import TextSendMessage"
   ]
  },
  {
   "cell_type": "code",
   "execution_count": 111,
   "id": "ebb49a41-7174-4bbf-9ad9-2e9ceef4fd1b",
   "metadata": {},
   "outputs": [],
   "source": [
    "CHANNEL_ACCESS_TOKEN = \"Rg/9H+WoAvhCKLnMP/yT1h4uFgWe1ZO1/2/x2kLtXpEAZAxN7ZSlQd/KQHOBBNzGHEtcflBmKiRuu3m+kTQx/eN6NxdPQLSl89DbVa/IM5upMk7/NtecZWeUn+gnu+b0E2CgqEcyH1HWmnDKj0WL+wdB04t89/1O/w1cDnyilFU=\"\n",
    "line_bot_api = LineBotApi(CHANNEL_ACCESS_TOKEN)"
   ]
  },
  {
   "cell_type": "code",
   "execution_count": 115,
   "id": "47d25caa-2349-4902-add8-57fbdee2d315",
   "metadata": {},
   "outputs": [],
   "source": [
    "def send_line(race):\n",
    "    USER_ID = \"Uaa5346493dbf7a5692cd56a446edc781\"\n",
    "    messages = TextSendMessage(text=\"今日の出場レース \\n\" + race)\n",
    "    line_bot_api.push_message(USER_ID, messages=messages)"
   ]
  },
  {
   "cell_type": "code",
   "execution_count": 104,
   "id": "89d12937-da56-4230-9b3e-cfff4d6e0d38",
   "metadata": {},
   "outputs": [],
   "source": [
    "import requests\n",
    "from bs4 import BeautifulSoup"
   ]
  },
  {
   "cell_type": "code",
   "execution_count": 95,
   "id": "6efd5edf-329e-406d-a70c-93228e461df7",
   "metadata": {},
   "outputs": [],
   "source": [
    "url = \"https://www.boatrace.jp/owpc/pc/data/racersearch/profile?toban=5174\"\n",
    "res = requests.get(url)"
   ]
  },
  {
   "cell_type": "code",
   "execution_count": 96,
   "id": "79433e5e-4df0-4b1d-b8d2-4125b15ca7e4",
   "metadata": {},
   "outputs": [],
   "source": [
    "soup = BeautifulSoup(res.text, \"html.parser\")"
   ]
  },
  {
   "cell_type": "code",
   "execution_count": 97,
   "id": "cf4a0cd5-aa23-43be-809e-ad4fd4b67c19",
   "metadata": {},
   "outputs": [
    {
     "data": {
      "text/plain": [
       "bs4.element.ResultSet"
      ]
     },
     "execution_count": 97,
     "metadata": {},
     "output_type": "execute_result"
    }
   ],
   "source": [
    "race = soup.find_all(\"tr\", attrs={\"is-p10-0\"})[0]\n",
    "today_race = race.find_all(\"a\")\n",
    "type(today_race)"
   ]
  },
  {
   "cell_type": "code",
   "execution_count": 98,
   "id": "44b3f26a-0d0b-4229-bb10-6ffb1ddc4aeb",
   "metadata": {},
   "outputs": [
    {
     "name": "stdout",
     "output_type": "stream",
     "text": [
      "['5R']\n"
     ]
    }
   ],
   "source": [
    "race_lists = []\n",
    "for i in today_race:\n",
    "    text = i.text\n",
    "    if \"R\" in text:\n",
    "        race_lists.append(text)\n",
    "print(race_lists)"
   ]
  },
  {
   "cell_type": "code",
   "execution_count": 118,
   "id": "b2c7222c-696a-4676-b333-5a9329814fe2",
   "metadata": {},
   "outputs": [],
   "source": [
    "if len(race_lists) > 1:\n",
    "    for race_list in race_lists:\n",
    "        #ライン送信する\n",
    "        send_line(race_list)\n",
    "elif len(race_lists) == 1:\n",
    "    send_line(race_lists[0])\n",
    "else:\n",
    "    send_line(\"今日は出場レースがありません。\")\n",
    "        "
   ]
  },
  {
   "cell_type": "code",
   "execution_count": null,
   "id": "a0057999-fdcc-4ba1-a98f-765c002528ef",
   "metadata": {},
   "outputs": [],
   "source": []
  }
 ],
 "metadata": {
  "kernelspec": {
   "display_name": "Python 3 (ipykernel)",
   "language": "python",
   "name": "python3"
  },
  "language_info": {
   "codemirror_mode": {
    "name": "ipython",
    "version": 3
   },
   "file_extension": ".py",
   "mimetype": "text/x-python",
   "name": "python",
   "nbconvert_exporter": "python",
   "pygments_lexer": "ipython3",
   "version": "3.9.7"
  }
 },
 "nbformat": 4,
 "nbformat_minor": 5
}
